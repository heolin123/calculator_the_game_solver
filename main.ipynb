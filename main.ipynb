{
 "cells": [
  {
   "cell_type": "code",
   "execution_count": 84,
   "metadata": {},
   "outputs": [],
   "source": [
    "MAX_VALUE = 999999999\n",
    "class Button(object):\n",
    "    def __init__(self, value):\n",
    "        self.str = value\n",
    "        self.value = value\n",
    "        \n",
    "    def execute(self, value):\n",
    "        return value\n",
    "\n",
    "    def __unicode__(self):\n",
    "        return self.str\n",
    "    \n",
    "class AddButton(Button):\n",
    "    def __init__(self, value):\n",
    "        self.str = value\n",
    "        self.value = int(value)\n",
    "        \n",
    "    def execute(self, value):\n",
    "        return value + self.value\n",
    "\n",
    "class MultiplyButton(Button):\n",
    "    def __init__(self, value):\n",
    "        self.str = value\n",
    "        self.value = int(value[1:])\n",
    "        \n",
    "    def execute(self, value):\n",
    "        return value * self.value\n",
    "\n",
    "class DivideButton(Button):\n",
    "    def __init__(self, value):\n",
    "        self.str = value\n",
    "        self.value = int(value[1:])\n",
    "        \n",
    "    def execute(self, value):\n",
    "        return value / float(self.value)\n",
    "    \n",
    "    \n",
    "class ReverseButton(Button):\n",
    "    def __init__(self, value):\n",
    "        self.str = value\n",
    "        \n",
    "    def execute(self, value):\n",
    "        try:\n",
    "            return int(str(value)[::-1])\n",
    "        except:\n",
    "            return MAX_VALUE\n",
    "    \n",
    "class SignButton(Button):\n",
    "    def __init__(self, value):\n",
    "        self.str = value\n",
    "        \n",
    "    def execute(self, value):\n",
    "        return -value\n",
    "        \n",
    "class AddLeftButton(Button):\n",
    "    def __init__(self, value):\n",
    "        self.value = value\n",
    "        self.str = value\n",
    "        \n",
    "    def execute(self, value):\n",
    "        return int(str(value) + str(self.value))\n",
    "        \n",
    "\n",
    "class Game(object):\n",
    "    def __init__(self, initial, moves, goal, buttons):\n",
    "        self.initial = initial\n",
    "        self.moves = moves\n",
    "        self.goal = goal\n",
    "        self.buttons = self.parse_buttons(buttons)\n",
    "        \n",
    "    def parse_buttons(self, buttons):\n",
    "        results = []\n",
    "        for button_str in buttons:\n",
    "            if button_str.startswith(\"x\"):\n",
    "                results.append(MultiplyButton(button_str))\n",
    "            elif button_str.startswith(\"/\"):\n",
    "                results.append(DivideButton(button_str))\n",
    "            elif button_str == \"+/-\":\n",
    "                results.append(SignButton(button_str))\n",
    "            elif button_str[0] in [\"-\", \"+\"]:\n",
    "                results.append(AddButton(button_str))\n",
    "            elif button_str == \"reverse\":\n",
    "                results.append(ReverseButton(button_str))\n",
    "            else:\n",
    "                results.append(AddLeftButton(button_str))\n",
    "                \n",
    "        return results\n",
    "    \n",
    "    def solve(self):\n",
    "        return self.solve_step(self.initial, self.moves, self.goal, [])\n",
    "    \n",
    "    def solve_step(self, current, steps, goal, path):\n",
    "        if current == goal:\n",
    "            return path\n",
    "        if steps <= 0:\n",
    "            return None\n",
    "\n",
    "        result = None\n",
    "        for button in self.buttons:\n",
    "            new_value = button.execute(current)\n",
    "            step_result = self.solve_step(new_value, steps-1, goal, path+[button])\n",
    "            if step_result:\n",
    "                result = step_result\n",
    "        return result\n",
    "    "
   ]
  },
  {
   "cell_type": "code",
   "execution_count": 85,
   "metadata": {},
   "outputs": [
    {
     "name": "stdout",
     "output_type": "stream",
     "text": [
      "25 +/- -25\n",
      "-25 x-4 100\n",
      "100 -4 96\n",
      "96 /8 12.0\n",
      "12.0 /3 4.0\n"
     ]
    }
   ],
   "source": [
    "game = Game(25, 5, 4, [\"-4\", \"x-4\", \"+/-\", \"/3\", \"/8\"])\n",
    "result = game.solve()\n",
    "current = 25\n",
    "for button in result:\n",
    "    value = button.execute(current)\n",
    "    print current, button.str, value\n",
    "    current = value"
   ]
  },
  {
   "cell_type": "code",
   "execution_count": 86,
   "metadata": {},
   "outputs": [
    {
     "name": "stdout",
     "output_type": "stream",
     "text": [
      "0 +9 9\n",
      "9 +6 15\n",
      "15 reverse 51\n"
     ]
    }
   ],
   "source": [
    "game = Game(0, 3, 51, [\"+6\", \"+9\", \"reverse\"])\n",
    "result = game.solve()\n",
    "current = game.initial\n",
    "for button in result:\n",
    "    value = button.execute(current)\n",
    "    print current, button.str, value\n",
    "    current = value"
   ]
  },
  {
   "cell_type": "code",
   "execution_count": 87,
   "metadata": {},
   "outputs": [
    {
     "name": "stdout",
     "output_type": "stream",
     "text": [
      "0 +4 4\n",
      "4 x4 16\n",
      "16 reverse 61\n",
      "61 -3 58\n"
     ]
    }
   ],
   "source": [
    "game = Game(0, 4, 58, [\"+4\", \"x4\", \"-3\", \"reverse\"])\n",
    "result = game.solve()\n",
    "current = game.initial\n",
    "for button in result:\n",
    "    value = button.execute(current)\n",
    "    print current, button.str, value\n",
    "    current = value"
   ]
  },
  {
   "cell_type": "code",
   "execution_count": 88,
   "metadata": {},
   "outputs": [
    {
     "name": "stdout",
     "output_type": "stream",
     "text": [
      "0 +5 5\n",
      "5 x4 20\n",
      "20 10 2010\n",
      "2010 reverse 102\n"
     ]
    }
   ],
   "source": [
    "game = Game(0, 4, 102, [\"10\", \"x4\", \"+5\", \"reverse\"])\n",
    "result = game.solve()\n",
    "current = game.initial\n",
    "for button in result:\n",
    "    value = button.execute(current)\n",
    "    print current, button.str, value\n",
    "    current = value"
   ]
  },
  {
   "cell_type": "code",
   "execution_count": null,
   "metadata": {
    "collapsed": true
   },
   "outputs": [],
   "source": []
  },
  {
   "cell_type": "code",
   "execution_count": null,
   "metadata": {
    "collapsed": true
   },
   "outputs": [],
   "source": []
  }
 ],
 "metadata": {
  "kernelspec": {
   "display_name": "Python 2",
   "language": "python",
   "name": "python2"
  },
  "language_info": {
   "codemirror_mode": {
    "name": "ipython",
    "version": 2
   },
   "file_extension": ".py",
   "mimetype": "text/x-python",
   "name": "python",
   "nbconvert_exporter": "python",
   "pygments_lexer": "ipython2",
   "version": "2.7.13"
  }
 },
 "nbformat": 4,
 "nbformat_minor": 2
}
