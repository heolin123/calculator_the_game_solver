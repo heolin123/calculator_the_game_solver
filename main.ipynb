{
 "cells": [
  {
   "cell_type": "code",
   "execution_count": 108,
   "metadata": {},
   "outputs": [],
   "source": [
    "MAX_VALUE = 999999999\n",
    "class Button(object):\n",
    "    def __init__(self, value):\n",
    "        self.str = value\n",
    "        self.value = value\n",
    "        \n",
    "    def execute(self, value):\n",
    "        return value\n",
    "\n",
    "    def __unicode__(self):\n",
    "        return self.str\n",
    "    \n",
    "class SumButton(Button):\n",
    "    def __init__(self, value):\n",
    "        self.str = value\n",
    "        \n",
    "    def execute(self, value):\n",
    "        return sum(map(int, list(str(value))))\n",
    "    \n",
    "class AddButton(Button):\n",
    "    def __init__(self, value):\n",
    "        self.str = value\n",
    "        self.value = int(value)\n",
    "        \n",
    "    def execute(self, value):\n",
    "        return value + self.value\n",
    "\n",
    "class MultiplyButton(Button):\n",
    "    def __init__(self, value):\n",
    "        self.str = value\n",
    "        self.value = int(value[1:])\n",
    "        \n",
    "    def execute(self, value):\n",
    "        return value * self.value\n",
    "\n",
    "class DivideButton(Button):\n",
    "    def __init__(self, value):\n",
    "        self.str = value\n",
    "        self.value = int(value[1:])\n",
    "        \n",
    "    def execute(self, value):\n",
    "        if value % self.value == 0:\n",
    "            return value / self.value\n",
    "        return MAX_VALUE\n",
    "    \n",
    "class ShiftButton(Button):\n",
    "    def __init__(self, value):\n",
    "        self.str = value\n",
    "        \n",
    "    def execute(self, value):\n",
    "        try:\n",
    "            return int(str(value)[:-1])\n",
    "        except:\n",
    "            return 0\n",
    "        \n",
    "class ReverseButton(Button):\n",
    "    def __init__(self, value):\n",
    "        self.str = value\n",
    "        \n",
    "    def execute(self, value):\n",
    "        try:\n",
    "            return int(str(value)[::-1])\n",
    "        except:\n",
    "            return MAX_VALUE\n",
    "        \n",
    "class ReplaceButton(Button):\n",
    "    def __init__(self, value):\n",
    "        self.str = value\n",
    "        self.value1, self.value2 = value.split('=>')\n",
    "        \n",
    "    def execute(self, value):\n",
    "        try:\n",
    "            return int(str(value).replace(self.value1, self.value2))\n",
    "        except:\n",
    "            return MAX_VALUE\n",
    "    \n",
    "class SignButton(Button):\n",
    "    def __init__(self, value):\n",
    "        self.str = value\n",
    "        \n",
    "    def execute(self, value):\n",
    "        return -value\n",
    "        \n",
    "class AddLeftButton(Button):\n",
    "    def __init__(self, value):\n",
    "        self.value = value\n",
    "        self.str = value\n",
    "        \n",
    "    def execute(self, value):\n",
    "        return int(str(int(value)) + str(self.value))\n",
    "        \n",
    "\n",
    "class Game(object):\n",
    "    def __init__(self, initial, moves, goal, buttons):\n",
    "        self.initial = initial\n",
    "        self.moves = moves\n",
    "        self.goal = goal\n",
    "        self.buttons = self.parse_buttons(buttons)\n",
    "        self.result = []\n",
    "        \n",
    "    @property\n",
    "    def is_solved(self):\n",
    "        return len(self.result) > 0\n",
    "        \n",
    "    def parse_buttons(self, buttons):\n",
    "        results = []\n",
    "        for button_str in buttons:\n",
    "            if button_str.startswith(\"x\"):\n",
    "                results.append(MultiplyButton(button_str))\n",
    "            elif \"=>\" in button_str:\n",
    "                results.append(ReplaceButton(button_str))\n",
    "            elif button_str == \"sum\":\n",
    "                results.append(SumButton(button_str))\n",
    "            elif button_str == \"<<\":\n",
    "                results.append(ShiftButton(button_str))\n",
    "            elif button_str.startswith(\"/\"):\n",
    "                results.append(DivideButton(button_str))\n",
    "            elif button_str == \"+/-\":\n",
    "                results.append(SignButton(button_str))\n",
    "            elif button_str[0] in [\"-\", \"+\"]:\n",
    "                results.append(AddButton(button_str))\n",
    "            elif button_str == \"reverse\":\n",
    "                results.append(ReverseButton(button_str))\n",
    "            else:\n",
    "                results.append(AddLeftButton(button_str))\n",
    "                \n",
    "        return results\n",
    "    \n",
    "    def solve(self):\n",
    "        self.result = self.solve_step(self.initial, self.moves, self.goal, [])\n",
    "        return self.result\n",
    "    \n",
    "    def solve_step(self, current, steps, goal, path):\n",
    "        if current == goal:\n",
    "            return path\n",
    "        if steps <= 0:\n",
    "            return []\n",
    "\n",
    "        result = []\n",
    "        for button in self.buttons:\n",
    "            new_value = button.execute(current)\n",
    "            step_result = self.solve_step(new_value, steps-1, goal, path+[button])\n",
    "            if step_result:\n",
    "                result = step_result\n",
    "                break\n",
    "        return result\n",
    "    \n",
    "    def show_steps(self):\n",
    "        if not self.is_solved:\n",
    "            print \"[ERROR] This game is not solved yet!\"\n",
    "            return\n",
    "        current = self.initial\n",
    "        print [b.str for b in self.result]\n",
    "        for button in self.result:\n",
    "            value = button.execute(current)\n",
    "            print current, button.str, \"=\", value\n",
    "            current = value"
   ]
  },
  {
   "cell_type": "code",
   "execution_count": 109,
   "metadata": {},
   "outputs": [
    {
     "name": "stdout",
     "output_type": "stream",
     "text": [
      "['-4', '/3', '-4', '-4', 'x-4']\n",
      "25 -4 = 21\n",
      "21 /3 = 7\n",
      "7 -4 = 3\n",
      "3 -4 = -1\n",
      "-1 x-4 = 4\n"
     ]
    }
   ],
   "source": [
    "game = Game(25, 5, 4, [\"-4\", \"x-4\", \"+/-\", \"/3\", \"/8\"])\n",
    "game.solve()\n",
    "game.show_steps()"
   ]
  },
  {
   "cell_type": "code",
   "execution_count": 110,
   "metadata": {},
   "outputs": [
    {
     "name": "stdout",
     "output_type": "stream",
     "text": [
      "['+6', '+9', 'reverse']\n",
      "0 +6 = 6\n",
      "6 +9 = 15\n",
      "15 reverse = 51\n"
     ]
    }
   ],
   "source": [
    "game = Game(0, 3, 51, [\"+6\", \"+9\", \"reverse\"])\n",
    "game.solve()\n",
    "game.show_steps()"
   ]
  },
  {
   "cell_type": "code",
   "execution_count": 111,
   "metadata": {},
   "outputs": [
    {
     "name": "stdout",
     "output_type": "stream",
     "text": [
      "['+4', 'x4', 'reverse', '-3']\n",
      "0 +4 = 4\n",
      "4 x4 = 16\n",
      "16 reverse = 61\n",
      "61 -3 = 58\n"
     ]
    }
   ],
   "source": [
    "game = Game(0, 4, 58, [\"+4\", \"x4\", \"-3\", \"reverse\"])\n",
    "game.solve()\n",
    "game.show_steps()"
   ]
  },
  {
   "cell_type": "code",
   "execution_count": 112,
   "metadata": {},
   "outputs": [
    {
     "name": "stdout",
     "output_type": "stream",
     "text": [
      "['+5', 'x4', '10', 'reverse']\n",
      "0 +5 = 5\n",
      "5 x4 = 20\n",
      "20 10 = 2010\n",
      "2010 reverse = 102\n"
     ]
    }
   ],
   "source": [
    "game = Game(0, 4, 102, [\"10\", \"x4\", \"+5\", \"reverse\"])\n",
    "result = game.solve()\n",
    "game.show_steps()"
   ]
  },
  {
   "cell_type": "code",
   "execution_count": 113,
   "metadata": {},
   "outputs": [
    {
     "name": "stdout",
     "output_type": "stream",
     "text": [
      "['1', 'reverse', 'x3', 'reverse', '/5']\n",
      "8 1 = 81\n",
      "81 reverse = 18\n",
      "18 x3 = 54\n",
      "54 reverse = 45\n",
      "45 /5 = 9\n"
     ]
    }
   ],
   "source": [
    "game = Game(8, 5, 9, [\"x3\", \"1\", \"/5\", \"reverse\"])\n",
    "game.solve()\n",
    "game.show_steps()"
   ]
  },
  {
   "cell_type": "code",
   "execution_count": 114,
   "metadata": {},
   "outputs": [
    {
     "name": "stdout",
     "output_type": "stream",
     "text": [
      "['+7', '+7', '+8', '+9', 'reverse']\n",
      "0 +7 = 7\n",
      "7 +7 = 14\n",
      "14 +8 = 22\n",
      "22 +9 = 31\n",
      "31 reverse = 13\n"
     ]
    }
   ],
   "source": [
    "game = Game(0, 5, 13, [\"+7\", \"+8\", \"+9\", \"reverse\"])\n",
    "game.solve()\n",
    "game.show_steps()"
   ]
  },
  {
   "cell_type": "code",
   "execution_count": 115,
   "metadata": {},
   "outputs": [
    {
     "name": "stdout",
     "output_type": "stream",
     "text": [
      "['-9', 'x3', 'x3', '+/-', 'reverse']\n",
      "7 -9 = -2\n",
      "-2 x3 = -6\n",
      "-6 x3 = -18\n",
      "-18 +/- = 18\n",
      "18 reverse = 81\n"
     ]
    }
   ],
   "source": [
    "#level 70\n",
    "game = Game(7, 5, 81, [\"-9\", \"x3\", \"+4\", \"reverse\", \"+/-\"])\n",
    "game.solve()\n",
    "game.show_steps()"
   ]
  },
  {
   "cell_type": "code",
   "execution_count": 116,
   "metadata": {},
   "outputs": [
    {
     "name": "stdout",
     "output_type": "stream",
     "text": [
      "['+6', '+6', '<<', '+6', '+6', 'reverse', '-3']\n",
      "0 +6 = 6\n",
      "6 +6 = 12\n",
      "12 << = 1\n",
      "1 +6 = 7\n",
      "7 +6 = 13\n",
      "13 reverse = 31\n",
      "31 -3 = 28\n"
     ]
    }
   ],
   "source": [
    "#level 72\n",
    "game = Game(0, 7, 28, [\"+6\", \"-3\", \"<<\", \"reverse\"])\n",
    "game.solve()\n",
    "game.show_steps()"
   ]
  },
  {
   "cell_type": "code",
   "execution_count": 117,
   "metadata": {},
   "outputs": [
    {
     "name": "stdout",
     "output_type": "stream",
     "text": [
      "['x2', 'reverse', '0', '0=>1', '2=>10']\n",
      "100 x2 = 200\n",
      "200 reverse = 2\n",
      "2 0 = 20\n",
      "20 0=>1 = 21\n",
      "21 2=>10 = 101\n"
     ]
    }
   ],
   "source": [
    "#level 78\n",
    "game = Game(100, 5, 101, [\"0\", \"x2\", \"2=>10\", \"reverse\", \"0=>1\"])\n",
    "game.solve()\n",
    "game.show_steps()"
   ]
  },
  {
   "cell_type": "code",
   "execution_count": 118,
   "metadata": {},
   "outputs": [
    {
     "name": "stdout",
     "output_type": "stream",
     "text": [
      "['1', '1', 'x13', '+12', '<<', '1', 'x13', '<<']\n",
      "0 1 = 1\n",
      "1 1 = 11\n",
      "11 x13 = 143\n",
      "143 +12 = 155\n",
      "155 << = 15\n",
      "15 1 = 151\n",
      "151 x13 = 1963\n",
      "1963 << = 196\n"
     ]
    }
   ],
   "source": [
    "#level 81\n",
    "game = Game(0, 8, 196, [\"1\", \"+12\", \"x13\", \"reverse\", \"<<\"])\n",
    "game.solve()\n",
    "game.show_steps()"
   ]
  },
  {
   "cell_type": "code",
   "execution_count": 123,
   "metadata": {},
   "outputs": [
    {
     "name": "stdout",
     "output_type": "stream",
     "text": [
      "['4', 'x3', 'sum', '3=>5', 'x9']\n",
      "0 4 = 4\n",
      "4 x3 = 12\n",
      "12 sum = 3\n",
      "3 3=>5 = 5\n",
      "5 x9 = 45\n"
     ]
    }
   ],
   "source": [
    "#level 91\n",
    "game = Game(0, 5, 45, [\"x9\", \"4\", \"x3\", \"3=>5\", \"sum\"])\n",
    "game.solve()\n",
    "game.show_steps()"
   ]
  },
  {
   "cell_type": "code",
   "execution_count": 125,
   "metadata": {},
   "outputs": [
    {
     "name": "stdout",
     "output_type": "stream",
     "text": [
      "['x4', 'x4', 'sum', 'sum', 'x4']\n",
      "424 x4 = 1696\n",
      "1696 x4 = 6784\n",
      "6784 sum = 25\n",
      "25 sum = 7\n",
      "7 x4 = 28\n"
     ]
    }
   ],
   "source": [
    "#level 92\n",
    "game = Game(424, 5, 28, [\"x4\", \"4=>6\", \"sum\"])\n",
    "game.solve()\n",
    "game.show_steps()"
   ]
  },
  {
   "cell_type": "code",
   "execution_count": 131,
   "metadata": {},
   "outputs": [
    {
     "name": "stdout",
     "output_type": "stream",
     "text": [
      "['sum', '+9', 'x9', '44=>43']\n",
      "142 sum = 7\n",
      "7 +9 = 16\n",
      "16 x9 = 144\n",
      "144 44=>43 = 143\n"
     ]
    }
   ],
   "source": [
    "#level 95\n",
    "game = Game(142, 4, 143, [\"x9\", \"+9\", \"44=>43\", \"sum\"])\n",
    "game.solve()\n",
    "game.show_steps()"
   ]
  },
  {
   "cell_type": "code",
   "execution_count": 132,
   "metadata": {},
   "outputs": [
    {
     "name": "stdout",
     "output_type": "stream",
     "text": [
      "['x2', '/3', '12=>21', 'x2', '/3', 'sum']\n",
      "18 x2 = 36\n",
      "36 /3 = 12\n",
      "12 12=>21 = 21\n",
      "21 x2 = 42\n",
      "42 /3 = 14\n",
      "14 sum = 5\n"
     ]
    }
   ],
   "source": [
    "#level 102\n",
    "game = Game(18, 6, 5, [\"x2\", \"/3\", \"12=>21\", \"sum\"])\n",
    "game.solve()\n",
    "game.show_steps()"
   ]
  },
  {
   "cell_type": "code",
   "execution_count": null,
   "metadata": {
    "collapsed": true
   },
   "outputs": [],
   "source": []
  }
 ],
 "metadata": {
  "kernelspec": {
   "display_name": "Python 2",
   "language": "python",
   "name": "python2"
  },
  "language_info": {
   "codemirror_mode": {
    "name": "ipython",
    "version": 2
   },
   "file_extension": ".py",
   "mimetype": "text/x-python",
   "name": "python",
   "nbconvert_exporter": "python",
   "pygments_lexer": "ipython2",
   "version": "2.7.13"
  }
 },
 "nbformat": 4,
 "nbformat_minor": 2
}
